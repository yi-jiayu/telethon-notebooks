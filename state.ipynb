{
 "cells": [
  {
   "cell_type": "code",
   "execution_count": 3,
   "metadata": {},
   "outputs": [],
   "source": [
    "from configparser import ConfigParser\n",
    "\n",
    "config = ConfigParser()\n",
    "config.read('telegram.ini')\n",
    "\n",
    "api_id = config['api']['id']\n",
    "api_hash = config['api']['hash']\n",
    "\n",
    "phone = config['user']['phone']\n",
    "password = config['user']['password']\n",
    "session = config['user']['session']"
   ]
  },
  {
   "cell_type": "code",
   "execution_count": 4,
   "metadata": {},
   "outputs": [
    {
     "data": {
      "text/plain": [
       "<telethon.client.telegramclient.TelegramClient at 0x103657b38>"
      ]
     },
     "execution_count": 4,
     "metadata": {},
     "output_type": "execute_result"
    }
   ],
   "source": [
    "from telethon import TelegramClient\n",
    "import os\n",
    "\n",
    "client = TelegramClient(session, api_id, api_hash)\n",
    "client.start(phone, password)"
   ]
  },
  {
   "cell_type": "code",
   "execution_count": 5,
   "metadata": {},
   "outputs": [
    {
     "data": {
      "text/plain": [
       "'State(pts=687488, qts=0, date=datetime.datetime(2018, 9, 19, 2, 44, 31, tzinfo=datetime.timezone.utc), seq=1, unread_count=0)'"
      ]
     },
     "execution_count": 5,
     "metadata": {},
     "output_type": "execute_result"
    }
   ],
   "source": [
    "from telethon.tl.functions.updates import GetStateRequest\n",
    "\n",
    "gsr = GetStateRequest()\n",
    "s = client(gsr)\n",
    "str(s)"
   ]
  },
  {
   "cell_type": "code",
   "execution_count": 6,
   "metadata": {},
   "outputs": [
    {
     "data": {
      "text/plain": [
       "'DifferenceEmpty(date=datetime.datetime(2018, 9, 19, 2, 44, 33, tzinfo=datetime.timezone.utc), seq=1)'"
      ]
     },
     "execution_count": 6,
     "metadata": {},
     "output_type": "execute_result"
    }
   ],
   "source": [
    "from telethon.tl.functions.updates import GetDifferenceRequest\n",
    "\n",
    "gdr = GetDifferenceRequest(pts=s.pts, date=s.date, qts=s.qts)\n",
    "d = client(gdr)\n",
    "str(d)"
   ]
  },
  {
   "cell_type": "code",
   "execution_count": null,
   "metadata": {},
   "outputs": [],
   "source": []
  }
 ],
 "metadata": {
  "kernelspec": {
   "display_name": "Python 3",
   "language": "python",
   "name": "python3"
  },
  "language_info": {
   "codemirror_mode": {
    "name": "ipython",
    "version": 3
   },
   "file_extension": ".py",
   "mimetype": "text/x-python",
   "name": "python",
   "nbconvert_exporter": "python",
   "pygments_lexer": "ipython3",
   "version": "3.7.0"
  }
 },
 "nbformat": 4,
 "nbformat_minor": 2
}
